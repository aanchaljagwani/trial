{
  "nbformat": 4,
  "nbformat_minor": 0,
  "metadata": {
    "colab": {
      "name": "house_price_prediction.ipynb",
      "provenance": [],
      "collapsed_sections": [],
      "authorship_tag": "ABX9TyME4d5N7sxcHNU3gEMFxpLh",
      "include_colab_link": true
    },
    "kernelspec": {
      "name": "python3",
      "display_name": "Python 3"
    }
  },
  "cells": [
    {
      "cell_type": "markdown",
      "metadata": {
        "id": "view-in-github",
        "colab_type": "text"
      },
      "source": [
        "<a href=\"https://colab.research.google.com/github/aanchaljagwani/trial/blob/main/house_price_prediction.ipynb\" target=\"_parent\"><img src=\"https://colab.research.google.com/assets/colab-badge.svg\" alt=\"Open In Colab\"/></a>"
      ]
    },
    {
      "cell_type": "code",
      "metadata": {
        "id": "mvukPWOBJkTU"
      },
      "source": [
        "import tensorflow as tf\n",
        "from tensorflow.keras.datasets import boston_housing\n",
        "from sklearn import preprocessing"
      ],
      "execution_count": null,
      "outputs": []
    },
    {
      "cell_type": "code",
      "metadata": {
        "id": "0C-CEbekKTFy"
      },
      "source": [
        "(train_x,train_y),(test_x,test_y)=boston_housing.load_data()"
      ],
      "execution_count": null,
      "outputs": []
    },
    {
      "cell_type": "code",
      "metadata": {
        "id": "Au8Dp_kOKqX7",
        "colab": {
          "base_uri": "https://localhost:8080/",
          "height": 52
        },
        "outputId": "46ab06e5-1372-48a1-a3b2-242da1e8332a"
      },
      "source": [
        "print(\"Train Shape :\",train_x.shape)\n",
        "print(\"Test Shape :\",test_x.shape)"
      ],
      "execution_count": null,
      "outputs": [
        {
          "output_type": "stream",
          "text": [
            "Train Shape : (404, 13)\n",
            "Test Shape : (102, 13)\n"
          ],
          "name": "stdout"
        }
      ]
    },
    {
      "cell_type": "code",
      "metadata": {
        "id": "QRexnjK-K6pu",
        "colab": {
          "base_uri": "https://localhost:8080/",
          "height": 52
        },
        "outputId": "cb664b65-2583-4da8-c118-5969ee7d6435"
      },
      "source": [
        "print(\"Train Output Shape :\",train_y.shape)\n",
        "print(\"Test Output Shape :\",test_y.shape)"
      ],
      "execution_count": null,
      "outputs": [
        {
          "output_type": "stream",
          "text": [
            "Train Output Shape : (404,)\n",
            "Test Output Shape : (102,)\n"
          ],
          "name": "stdout"
        }
      ]
    },
    {
      "cell_type": "code",
      "metadata": {
        "id": "ApeawgI3LFiu",
        "colab": {
          "base_uri": "https://localhost:8080/",
          "height": 70
        },
        "outputId": "9b32eb31-0676-4795-a264-1ab0d1ca7167"
      },
      "source": [
        "train_x[0]"
      ],
      "execution_count": null,
      "outputs": [
        {
          "output_type": "execute_result",
          "data": {
            "text/plain": [
              "array([  1.23247,   0.     ,   8.14   ,   0.     ,   0.538  ,   6.142  ,\n",
              "        91.7    ,   3.9769 ,   4.     , 307.     ,  21.     , 396.9    ,\n",
              "        18.72   ])"
            ]
          },
          "metadata": {
            "tags": []
          },
          "execution_count": 60
        }
      ]
    },
    {
      "cell_type": "code",
      "metadata": {
        "id": "ZGwa0RQdLJdC",
        "colab": {
          "base_uri": "https://localhost:8080/",
          "height": 34
        },
        "outputId": "c948a7f4-0a96-4cea-ba6d-55238d40aa66"
      },
      "source": [
        "test_y[0]"
      ],
      "execution_count": null,
      "outputs": [
        {
          "output_type": "execute_result",
          "data": {
            "text/plain": [
              "7.2"
            ]
          },
          "metadata": {
            "tags": []
          },
          "execution_count": 61
        }
      ]
    },
    {
      "cell_type": "code",
      "metadata": {
        "id": "EvbZfpiILQcp"
      },
      "source": [
        "train_x=preprocessing.normalize(train_x)"
      ],
      "execution_count": null,
      "outputs": []
    },
    {
      "cell_type": "code",
      "metadata": {
        "id": "WEJva3qnLnIe"
      },
      "source": [
        "test_x=preprocessing.normalize(test_x)"
      ],
      "execution_count": null,
      "outputs": []
    },
    {
      "cell_type": "code",
      "metadata": {
        "id": "rc_eUN2ILuhc",
        "colab": {
          "base_uri": "https://localhost:8080/",
          "height": 87
        },
        "outputId": "40a95ad9-7e7b-4e32-e3c8-099f520f595c"
      },
      "source": [
        "train_x[5]"
      ],
      "execution_count": null,
      "outputs": [
        {
          "output_type": "execute_result",
          "data": {
            "text/plain": [
              "array([5.77712166e-04, 0.00000000e+00, 1.50166095e-02, 0.00000000e+00,\n",
              "       1.00314207e-03, 1.16144725e-02, 1.51183481e-01, 9.60635709e-03,\n",
              "       1.01738547e-02, 5.83979260e-01, 3.98815105e-02, 7.95859958e-01,\n",
              "       2.38882109e-02])"
            ]
          },
          "metadata": {
            "tags": []
          },
          "execution_count": 71
        }
      ]
    },
    {
      "cell_type": "code",
      "metadata": {
        "id": "D2_fyAS3L0Bx",
        "colab": {
          "base_uri": "https://localhost:8080/",
          "height": 34
        },
        "outputId": "141ed151-1ede-4633-991a-f4d8c9baa3bd"
      },
      "source": [
        "test_y[5]"
      ],
      "execution_count": null,
      "outputs": [
        {
          "output_type": "execute_result",
          "data": {
            "text/plain": [
              "24.5"
            ]
          },
          "metadata": {
            "tags": []
          },
          "execution_count": 72
        }
      ]
    },
    {
      "cell_type": "code",
      "metadata": {
        "id": "u1jLIRlrL21b"
      },
      "source": [
        "from tensorflow.keras.models import Sequential\n",
        "from tensorflow.keras.layers import *\n",
        "\n",
        "\n"
      ],
      "execution_count": null,
      "outputs": []
    },
    {
      "cell_type": "code",
      "metadata": {
        "id": "MOkrE2_XhGB8"
      },
      "source": [
        "def housePrice():\n",
        "  model=Sequential()\n",
        "  model.add(Dense(120,activation='relu',input_shape=(train_x[0].shape)))\n",
        "  model.add(Dense(64,activation='relu'))\n",
        "  model.add(Dense(32,activation='relu'))\n",
        "  model.add(Dense(1))\n",
        "  model.compile(optimizer='rmsprop',loss='mse',metrics=['mae'])\n",
        "  return model "
      ],
      "execution_count": null,
      "outputs": []
    },
    {
      "cell_type": "code",
      "metadata": {
        "id": "sg8MAt1uQG60"
      },
      "source": [
        "import numpy as np\n",
        "k=4\n",
        "num_val_samples=len(train_x)\n",
        "num_epochs=100\n",
        "all_scores=[]"
      ],
      "execution_count": null,
      "outputs": []
    },
    {
      "cell_type": "code",
      "metadata": {
        "id": "mQaJtktuQ3G9",
        "colab": {
          "base_uri": "https://localhost:8080/",
          "height": 1000
        },
        "outputId": "8e8d6bab-23fb-4508-c54f-63b629c9d4ba"
      },
      "source": [
        "model=housePrice()\n",
        "history=model.fit(x=train_x,y=train_y,epochs=num_epochs,batch_size=1,verbose=1,validation_data=(test_x,test_y))"
      ],
      "execution_count": null,
      "outputs": [
        {
          "output_type": "stream",
          "text": [
            "Epoch 1/100\n",
            "404/404 [==============================] - 1s 1ms/step - loss: 132.8251 - mae: 8.4704 - val_loss: 69.8433 - val_mae: 5.9008\n",
            "Epoch 2/100\n",
            "404/404 [==============================] - 0s 1ms/step - loss: 67.9186 - mae: 5.6820 - val_loss: 62.9819 - val_mae: 6.1485\n",
            "Epoch 3/100\n",
            "404/404 [==============================] - 0s 1ms/step - loss: 63.8560 - mae: 5.5151 - val_loss: 59.0063 - val_mae: 5.5445\n",
            "Epoch 4/100\n",
            "404/404 [==============================] - 0s 1ms/step - loss: 60.2752 - mae: 5.3567 - val_loss: 54.6860 - val_mae: 5.5704\n",
            "Epoch 5/100\n",
            "404/404 [==============================] - 0s 1ms/step - loss: 58.9588 - mae: 5.2371 - val_loss: 55.9483 - val_mae: 5.3803\n",
            "Epoch 6/100\n",
            "404/404 [==============================] - 0s 1ms/step - loss: 57.1201 - mae: 5.1632 - val_loss: 54.3323 - val_mae: 5.2817\n",
            "Epoch 7/100\n",
            "404/404 [==============================] - 0s 1ms/step - loss: 56.0178 - mae: 5.0762 - val_loss: 54.6269 - val_mae: 5.2235\n",
            "Epoch 8/100\n",
            "404/404 [==============================] - 1s 1ms/step - loss: 53.9191 - mae: 4.9619 - val_loss: 49.8381 - val_mae: 5.0634\n",
            "Epoch 9/100\n",
            "404/404 [==============================] - 0s 1ms/step - loss: 52.2203 - mae: 4.8156 - val_loss: 58.2842 - val_mae: 6.0844\n",
            "Epoch 10/100\n",
            "404/404 [==============================] - 0s 1ms/step - loss: 50.1653 - mae: 4.7358 - val_loss: 47.3567 - val_mae: 4.8780\n",
            "Epoch 11/100\n",
            "404/404 [==============================] - 0s 1ms/step - loss: 48.7752 - mae: 4.7413 - val_loss: 50.3806 - val_mae: 5.5123\n",
            "Epoch 12/100\n",
            "404/404 [==============================] - 0s 1ms/step - loss: 47.5687 - mae: 4.6053 - val_loss: 43.1937 - val_mae: 4.8346\n",
            "Epoch 13/100\n",
            "404/404 [==============================] - 0s 1ms/step - loss: 46.6800 - mae: 4.6117 - val_loss: 41.8533 - val_mae: 4.5022\n",
            "Epoch 14/100\n",
            "404/404 [==============================] - 0s 1ms/step - loss: 43.4202 - mae: 4.4482 - val_loss: 40.3265 - val_mae: 4.4181\n",
            "Epoch 15/100\n",
            "404/404 [==============================] - 0s 1ms/step - loss: 41.8953 - mae: 4.4635 - val_loss: 40.3415 - val_mae: 4.7337\n",
            "Epoch 16/100\n",
            "404/404 [==============================] - 0s 1ms/step - loss: 40.7401 - mae: 4.4565 - val_loss: 45.9964 - val_mae: 4.7432\n",
            "Epoch 17/100\n",
            "404/404 [==============================] - 0s 1ms/step - loss: 38.9371 - mae: 4.2676 - val_loss: 35.1191 - val_mae: 4.1391\n",
            "Epoch 18/100\n",
            "404/404 [==============================] - 0s 1ms/step - loss: 37.8248 - mae: 4.2622 - val_loss: 36.7519 - val_mae: 4.6532\n",
            "Epoch 19/100\n",
            "404/404 [==============================] - 0s 1ms/step - loss: 36.9834 - mae: 4.2712 - val_loss: 34.3061 - val_mae: 4.3815\n",
            "Epoch 20/100\n",
            "404/404 [==============================] - 0s 1ms/step - loss: 36.4736 - mae: 4.2094 - val_loss: 32.7046 - val_mae: 4.0198\n",
            "Epoch 21/100\n",
            "404/404 [==============================] - 0s 1ms/step - loss: 36.0199 - mae: 4.2190 - val_loss: 32.9334 - val_mae: 3.9898\n",
            "Epoch 22/100\n",
            "404/404 [==============================] - 0s 1ms/step - loss: 35.7789 - mae: 4.2692 - val_loss: 31.4784 - val_mae: 4.1500\n",
            "Epoch 23/100\n",
            "404/404 [==============================] - 0s 1ms/step - loss: 34.0317 - mae: 4.0830 - val_loss: 29.9410 - val_mae: 3.8263\n",
            "Epoch 24/100\n",
            "404/404 [==============================] - 0s 1ms/step - loss: 33.3707 - mae: 4.0908 - val_loss: 41.0275 - val_mae: 4.3716\n",
            "Epoch 25/100\n",
            "404/404 [==============================] - 0s 1ms/step - loss: 32.2313 - mae: 4.0461 - val_loss: 29.6247 - val_mae: 3.8014\n",
            "Epoch 26/100\n",
            "404/404 [==============================] - 0s 1ms/step - loss: 32.4005 - mae: 3.9902 - val_loss: 29.0384 - val_mae: 3.7564\n",
            "Epoch 27/100\n",
            "404/404 [==============================] - 0s 1ms/step - loss: 31.9223 - mae: 3.9224 - val_loss: 29.9788 - val_mae: 4.0053\n",
            "Epoch 28/100\n",
            "404/404 [==============================] - 1s 1ms/step - loss: 31.3593 - mae: 3.9101 - val_loss: 30.1413 - val_mae: 3.7965\n",
            "Epoch 29/100\n",
            "404/404 [==============================] - 0s 1ms/step - loss: 30.2664 - mae: 3.8817 - val_loss: 27.2605 - val_mae: 3.7013\n",
            "Epoch 30/100\n",
            "404/404 [==============================] - 0s 1ms/step - loss: 29.5348 - mae: 3.7734 - val_loss: 27.0464 - val_mae: 3.6853\n",
            "Epoch 31/100\n",
            "404/404 [==============================] - 0s 1ms/step - loss: 28.2004 - mae: 3.8482 - val_loss: 31.3992 - val_mae: 3.8576\n",
            "Epoch 32/100\n",
            "404/404 [==============================] - 0s 1ms/step - loss: 28.4908 - mae: 3.8089 - val_loss: 26.9694 - val_mae: 3.6216\n",
            "Epoch 33/100\n",
            "404/404 [==============================] - 0s 1ms/step - loss: 26.9908 - mae: 3.6797 - val_loss: 25.8072 - val_mae: 3.6963\n",
            "Epoch 34/100\n",
            "404/404 [==============================] - 0s 1ms/step - loss: 26.6619 - mae: 3.6682 - val_loss: 25.0838 - val_mae: 3.6055\n",
            "Epoch 35/100\n",
            "404/404 [==============================] - 0s 1ms/step - loss: 27.0893 - mae: 3.7875 - val_loss: 25.4927 - val_mae: 3.6617\n",
            "Epoch 36/100\n",
            "404/404 [==============================] - 0s 1ms/step - loss: 24.6807 - mae: 3.5634 - val_loss: 29.9423 - val_mae: 3.7488\n",
            "Epoch 37/100\n",
            "404/404 [==============================] - 0s 1ms/step - loss: 25.4997 - mae: 3.6212 - val_loss: 25.9926 - val_mae: 3.8388\n",
            "Epoch 38/100\n",
            "404/404 [==============================] - 1s 1ms/step - loss: 24.5622 - mae: 3.6069 - val_loss: 24.7511 - val_mae: 3.8365\n",
            "Epoch 39/100\n",
            "404/404 [==============================] - 0s 1ms/step - loss: 25.2635 - mae: 3.5855 - val_loss: 26.0107 - val_mae: 3.6338\n",
            "Epoch 40/100\n",
            "404/404 [==============================] - 0s 1ms/step - loss: 24.2479 - mae: 3.4881 - val_loss: 24.4913 - val_mae: 3.5320\n",
            "Epoch 41/100\n",
            "404/404 [==============================] - 1s 1ms/step - loss: 23.7598 - mae: 3.4343 - val_loss: 26.0299 - val_mae: 3.6096\n",
            "Epoch 42/100\n",
            "404/404 [==============================] - 1s 1ms/step - loss: 23.5602 - mae: 3.4822 - val_loss: 31.4578 - val_mae: 4.5710\n",
            "Epoch 43/100\n",
            "404/404 [==============================] - 1s 1ms/step - loss: 22.6401 - mae: 3.3468 - val_loss: 45.2843 - val_mae: 5.8312\n",
            "Epoch 44/100\n",
            "404/404 [==============================] - 1s 1ms/step - loss: 23.1665 - mae: 3.4323 - val_loss: 27.9361 - val_mae: 3.6907\n",
            "Epoch 45/100\n",
            "404/404 [==============================] - 1s 1ms/step - loss: 23.3992 - mae: 3.4299 - val_loss: 25.3362 - val_mae: 3.5235\n",
            "Epoch 46/100\n",
            "404/404 [==============================] - 1s 1ms/step - loss: 22.4578 - mae: 3.3837 - val_loss: 29.6759 - val_mae: 3.8406\n",
            "Epoch 47/100\n",
            "404/404 [==============================] - 1s 1ms/step - loss: 21.3752 - mae: 3.4223 - val_loss: 32.5152 - val_mae: 3.9781\n",
            "Epoch 48/100\n",
            "404/404 [==============================] - 0s 1ms/step - loss: 22.1336 - mae: 3.3402 - val_loss: 24.7711 - val_mae: 3.5003\n",
            "Epoch 49/100\n",
            "404/404 [==============================] - 0s 1ms/step - loss: 21.0324 - mae: 3.3288 - val_loss: 25.2842 - val_mae: 3.6456\n",
            "Epoch 50/100\n",
            "404/404 [==============================] - 1s 1ms/step - loss: 20.7269 - mae: 3.3457 - val_loss: 25.6534 - val_mae: 3.5653\n",
            "Epoch 51/100\n",
            "404/404 [==============================] - 0s 1ms/step - loss: 20.2625 - mae: 3.3101 - val_loss: 31.7227 - val_mae: 4.0130\n",
            "Epoch 52/100\n",
            "404/404 [==============================] - 0s 1ms/step - loss: 20.8700 - mae: 3.3151 - val_loss: 27.9951 - val_mae: 3.9557\n",
            "Epoch 53/100\n",
            "404/404 [==============================] - 1s 1ms/step - loss: 20.5238 - mae: 3.3230 - val_loss: 39.4231 - val_mae: 5.0337\n",
            "Epoch 54/100\n",
            "404/404 [==============================] - 0s 1ms/step - loss: 19.3622 - mae: 3.2442 - val_loss: 29.4495 - val_mae: 4.0781\n",
            "Epoch 55/100\n",
            "404/404 [==============================] - 0s 1ms/step - loss: 20.7099 - mae: 3.2935 - val_loss: 28.3045 - val_mae: 3.7574\n",
            "Epoch 56/100\n",
            "404/404 [==============================] - 1s 1ms/step - loss: 19.0106 - mae: 3.1064 - val_loss: 25.3673 - val_mae: 3.5294\n",
            "Epoch 57/100\n",
            "404/404 [==============================] - 0s 1ms/step - loss: 18.6574 - mae: 3.1765 - val_loss: 28.3831 - val_mae: 3.7309\n",
            "Epoch 58/100\n",
            "404/404 [==============================] - 0s 1ms/step - loss: 20.8066 - mae: 3.1467 - val_loss: 26.7829 - val_mae: 3.6435\n",
            "Epoch 59/100\n",
            "404/404 [==============================] - 0s 1ms/step - loss: 18.4921 - mae: 3.0410 - val_loss: 40.8597 - val_mae: 4.8722\n",
            "Epoch 60/100\n",
            "404/404 [==============================] - 0s 1ms/step - loss: 19.0425 - mae: 3.0890 - val_loss: 26.1925 - val_mae: 3.5155\n",
            "Epoch 61/100\n",
            "404/404 [==============================] - 0s 1ms/step - loss: 18.6818 - mae: 3.1375 - val_loss: 32.7941 - val_mae: 4.0574\n",
            "Epoch 62/100\n",
            "404/404 [==============================] - 0s 1ms/step - loss: 19.0783 - mae: 3.0327 - val_loss: 28.2257 - val_mae: 3.8201\n",
            "Epoch 63/100\n",
            "404/404 [==============================] - 0s 1ms/step - loss: 19.4143 - mae: 3.0901 - val_loss: 33.3084 - val_mae: 4.0291\n",
            "Epoch 64/100\n",
            "404/404 [==============================] - 0s 1ms/step - loss: 18.5538 - mae: 3.1456 - val_loss: 26.7393 - val_mae: 3.6342\n",
            "Epoch 65/100\n",
            "404/404 [==============================] - 1s 1ms/step - loss: 18.7189 - mae: 3.0558 - val_loss: 27.6459 - val_mae: 3.6589\n",
            "Epoch 66/100\n",
            "404/404 [==============================] - 0s 1ms/step - loss: 18.8585 - mae: 3.1220 - val_loss: 27.5964 - val_mae: 3.6802\n",
            "Epoch 67/100\n",
            "404/404 [==============================] - 0s 1ms/step - loss: 17.3157 - mae: 2.9687 - val_loss: 32.9459 - val_mae: 4.0074\n",
            "Epoch 68/100\n",
            "404/404 [==============================] - 0s 1ms/step - loss: 17.8970 - mae: 3.0760 - val_loss: 30.3776 - val_mae: 3.8859\n",
            "Epoch 69/100\n",
            "404/404 [==============================] - 0s 1ms/step - loss: 16.8149 - mae: 2.9338 - val_loss: 30.5182 - val_mae: 3.8132\n",
            "Epoch 70/100\n",
            "404/404 [==============================] - 1s 1ms/step - loss: 18.5747 - mae: 3.0825 - val_loss: 28.9172 - val_mae: 3.7329\n",
            "Epoch 71/100\n",
            "404/404 [==============================] - 0s 1ms/step - loss: 18.6329 - mae: 3.0820 - val_loss: 27.2375 - val_mae: 3.5752\n",
            "Epoch 72/100\n",
            "404/404 [==============================] - 0s 1ms/step - loss: 18.1260 - mae: 3.0292 - val_loss: 31.4341 - val_mae: 3.9118\n",
            "Epoch 73/100\n",
            "404/404 [==============================] - 0s 1ms/step - loss: 17.3722 - mae: 3.0271 - val_loss: 26.2248 - val_mae: 3.5112\n",
            "Epoch 74/100\n",
            "404/404 [==============================] - 0s 1ms/step - loss: 17.8012 - mae: 3.0028 - val_loss: 28.1831 - val_mae: 3.6898\n",
            "Epoch 75/100\n",
            "404/404 [==============================] - 0s 1ms/step - loss: 17.6705 - mae: 3.1187 - val_loss: 26.2388 - val_mae: 3.5414\n",
            "Epoch 76/100\n",
            "404/404 [==============================] - 0s 1ms/step - loss: 17.4853 - mae: 2.9651 - val_loss: 27.4766 - val_mae: 3.5824\n",
            "Epoch 77/100\n",
            "404/404 [==============================] - 0s 1ms/step - loss: 18.8008 - mae: 3.0818 - val_loss: 26.0347 - val_mae: 3.5419\n",
            "Epoch 78/100\n",
            "404/404 [==============================] - 0s 1ms/step - loss: 17.7220 - mae: 3.0425 - val_loss: 29.4639 - val_mae: 3.6399\n",
            "Epoch 79/100\n",
            "404/404 [==============================] - 0s 1ms/step - loss: 16.5855 - mae: 2.9749 - val_loss: 29.7423 - val_mae: 3.6762\n",
            "Epoch 80/100\n",
            "404/404 [==============================] - 0s 1ms/step - loss: 16.1049 - mae: 2.9138 - val_loss: 29.8468 - val_mae: 3.7197\n",
            "Epoch 81/100\n",
            "404/404 [==============================] - 0s 1ms/step - loss: 16.9894 - mae: 2.9606 - val_loss: 26.3119 - val_mae: 3.4747\n",
            "Epoch 82/100\n",
            "404/404 [==============================] - 0s 1ms/step - loss: 17.1408 - mae: 2.9249 - val_loss: 32.0605 - val_mae: 3.7827\n",
            "Epoch 83/100\n",
            "404/404 [==============================] - 0s 1ms/step - loss: 16.5052 - mae: 2.9676 - val_loss: 30.6915 - val_mae: 3.7177\n",
            "Epoch 84/100\n",
            "404/404 [==============================] - 0s 1ms/step - loss: 17.1799 - mae: 2.9756 - val_loss: 28.3688 - val_mae: 3.6892\n",
            "Epoch 85/100\n",
            "404/404 [==============================] - 0s 1ms/step - loss: 15.9816 - mae: 2.8901 - val_loss: 31.1435 - val_mae: 3.9178\n",
            "Epoch 86/100\n",
            "404/404 [==============================] - 0s 1ms/step - loss: 17.0455 - mae: 2.9642 - val_loss: 31.3380 - val_mae: 3.8796\n",
            "Epoch 87/100\n",
            "404/404 [==============================] - 1s 1ms/step - loss: 17.4061 - mae: 2.9565 - val_loss: 28.5545 - val_mae: 3.5905\n",
            "Epoch 88/100\n",
            "404/404 [==============================] - 0s 1ms/step - loss: 16.8823 - mae: 2.9323 - val_loss: 26.6334 - val_mae: 3.5415\n",
            "Epoch 89/100\n",
            "404/404 [==============================] - 0s 1ms/step - loss: 16.8124 - mae: 2.9470 - val_loss: 49.6649 - val_mae: 5.3269\n",
            "Epoch 90/100\n",
            "404/404 [==============================] - 0s 1ms/step - loss: 17.3339 - mae: 2.9828 - val_loss: 27.9678 - val_mae: 3.8059\n",
            "Epoch 91/100\n",
            "404/404 [==============================] - 0s 1ms/step - loss: 17.1265 - mae: 2.9365 - val_loss: 29.7086 - val_mae: 3.6768\n",
            "Epoch 92/100\n",
            "404/404 [==============================] - 0s 1ms/step - loss: 17.1733 - mae: 2.9879 - val_loss: 33.0482 - val_mae: 3.9529\n",
            "Epoch 93/100\n",
            "404/404 [==============================] - 0s 1ms/step - loss: 17.3132 - mae: 2.9397 - val_loss: 27.1126 - val_mae: 3.5075\n",
            "Epoch 94/100\n",
            "404/404 [==============================] - 1s 1ms/step - loss: 16.9289 - mae: 3.0050 - val_loss: 29.3065 - val_mae: 3.6492\n",
            "Epoch 95/100\n",
            "404/404 [==============================] - 1s 1ms/step - loss: 16.0769 - mae: 2.8583 - val_loss: 29.2626 - val_mae: 3.7974\n",
            "Epoch 96/100\n",
            "404/404 [==============================] - 1s 1ms/step - loss: 16.9504 - mae: 2.8990 - val_loss: 30.5944 - val_mae: 3.7833\n",
            "Epoch 97/100\n",
            "404/404 [==============================] - 0s 1ms/step - loss: 16.2358 - mae: 2.9439 - val_loss: 32.6293 - val_mae: 3.9613\n",
            "Epoch 98/100\n",
            "404/404 [==============================] - 0s 1ms/step - loss: 16.0443 - mae: 2.8952 - val_loss: 26.5802 - val_mae: 3.5988\n",
            "Epoch 99/100\n",
            "404/404 [==============================] - 1s 1ms/step - loss: 16.2187 - mae: 2.9279 - val_loss: 38.5307 - val_mae: 4.5801\n",
            "Epoch 100/100\n",
            "404/404 [==============================] - 0s 1ms/step - loss: 16.3148 - mae: 2.9484 - val_loss: 29.1129 - val_mae: 3.5661\n"
          ],
          "name": "stdout"
        }
      ]
    },
    {
      "cell_type": "code",
      "metadata": {
        "id": "4TrNMA9dgtBz",
        "colab": {
          "base_uri": "https://localhost:8080/",
          "height": 52
        },
        "outputId": "e43df923-43db-46ba-f577-89e52d2c8f8d"
      },
      "source": [
        "test_input=[[0.1083013 , 0.        , 0.02665775, 0.        , 0.00100003,0.00877349, 0.14728037, 0.00265488, 0.03534729, 0.98088728,0.02975064, 0.02422762, 0.03036921]]\n",
        "print(\"Actual Output:7.2\")\n",
        "print(\"Predicted Output:\",model.predict(test_input))"
      ],
      "execution_count": null,
      "outputs": [
        {
          "output_type": "stream",
          "text": [
            "Actual Output:7.2\n",
            "Predicted Output: [[6.5378747]]\n"
          ],
          "name": "stdout"
        }
      ]
    },
    {
      "cell_type": "code",
      "metadata": {
        "id": "o5snSDIIi64u"
      },
      "source": [
        ""
      ],
      "execution_count": null,
      "outputs": []
    }
  ]
}